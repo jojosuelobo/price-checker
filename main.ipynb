{
 "cells": [
  {
   "cell_type": "markdown",
   "metadata": {},
   "source": [
    "### Carrega libs"
   ]
  },
  {
   "cell_type": "code",
   "execution_count": 1,
   "metadata": {},
   "outputs": [],
   "source": [
    "# scrape data\n",
    "from bs4 import BeautifulSoup as bs\n",
    "import requests\n",
    "import re\n",
    "from selenium import webdriver\n",
    "from selenium.webdriver.common.by import By\n",
    "from selenium.webdriver.support.ui import WebDriverWait\n",
    "from selenium.webdriver.support import expected_conditions as EC\n",
    "from datetime import datetime\n",
    "\n",
    "# dataframe\n",
    "import pandas as pd\n",
    "import os"
   ]
  },
  {
   "cell_type": "markdown",
   "metadata": {},
   "source": [
    "### Kabum"
   ]
  },
  {
   "cell_type": "code",
   "execution_count": 2,
   "metadata": {},
   "outputs": [],
   "source": [
    "def convert_price_to_float(price_str):\n",
    "    # Checa de price_str é None ou se contém '----'\n",
    "    if not price_str or '----' in price_str:\n",
    "        return None\n",
    "    try:\n",
    "        # Remove R$\n",
    "        price_str = price_str.replace('R$', '').strip()\n",
    "        # Remove separador de milhar\n",
    "        price_str = price_str.replace('.', '')\n",
    "        # Troca , por .\n",
    "        price_str = price_str.replace(',', '.')\n",
    "        # Converte pra float\n",
    "        price_float = float(price_str)\n",
    "        return price_float\n",
    "    except ValueError:\n",
    "        return None"
   ]
  },
  {
   "cell_type": "code",
   "execution_count": 3,
   "metadata": {},
   "outputs": [],
   "source": [
    "def extract_especifications(category, name):\n",
    "    if category == 'disco-rigido-hd':\n",
    "        # Define o padrão regex para encontrar o armazenamento (número seguido de TB ou GB)\n",
    "        padrao = re.compile(r'\\d+(?:TB|GB)', re.IGNORECASE)\n",
    "        \n",
    "        # Procura o padrão no nome do produto\n",
    "        match = padrao.search(name)\n",
    "        \n",
    "        # Se encontrar, retorna o match; caso contrário, retorna None\n",
    "        if match:\n",
    "            return match.group()\n",
    "        else:\n",
    "            return None\n",
    "    else:\n",
    "        return None"
   ]
  },
  {
   "cell_type": "code",
   "execution_count": 4,
   "metadata": {},
   "outputs": [],
   "source": [
    "def clean_item_name(name):\n",
    "    # Remove \" , ' , ` , ´\n",
    "    cleaned_name = re.sub(r'[\\\"\\`\\´\\']', '', name)\n",
    "    cleaned_name = re.sub(r'-+', '-', cleaned_name)\n",
    "    cleaned_name = cleaned_name.strip('-')\n",
    "    return cleaned_name\n"
   ]
  },
  {
   "cell_type": "code",
   "execution_count": 5,
   "metadata": {},
   "outputs": [],
   "source": [
    "def scrape_data_kabum(URL):\n",
    "    r = requests.get(URL)\n",
    "    soup = bs(r.content)\n",
    "\n",
    "    # Número total de páginas\n",
    "    NUM_PAGES = int(((soup.find('li', class_='next')).find_previous_sibling('li')).text.strip())\n",
    "\n",
    "    # Configurações de Driver\n",
    "    driver = webdriver.Chrome()\n",
    "    driver.get(URL)\n",
    "\n",
    "    # loop de págians\n",
    "    items = []\n",
    "    \n",
    "    # URL.split('?')[0]: divide a URL pelo caractere '?' e pega a primeira parte antes dos parâmetros de consulta.\n",
    "    # .split('/'): divide a parte restante da URL pelo caractere '/' \n",
    "    # [3]: Acessa o quarto elemento da lista, que é a categoria\n",
    "    CATEGORIA = ((URL.split('?')[0]).split('/'))[3]\n",
    "    \n",
    "    # [-1]: Acessa o último elemento da lista, que é a subcategoria\n",
    "    SUBCATEGORIA = ( ( (URL.split('?'))[0] ).split('/') )[-1]\n",
    "\n",
    "    PAGE = 1\n",
    "    while PAGE <= NUM_PAGES:\n",
    "        print(f\"Processando página {PAGE} de {NUM_PAGES} - kabum/{CATEGORIA}/{SUBCATEGORIA}\")\n",
    "        wait = WebDriverWait(driver, 10)\n",
    "        \n",
    "        # Aceitar cookies - Necessário pois o componente sobrepõe itens da página\n",
    "        try:\n",
    "            entendi_button = wait.until(EC.element_to_be_clickable((By.ID, \"onetrust-accept-btn-handler\")))\n",
    "            entendi_button.click()\n",
    "        except:\n",
    "            pass\n",
    "        \n",
    "        wait.until(EC.presence_of_all_elements_located((By.CSS_SELECTOR, 'article.productCard')))\n",
    "        articles = driver.find_elements(By.CSS_SELECTOR, 'article.productCard')\n",
    "        \n",
    "        for article in articles:\n",
    "            item_url = ('https://www.kabum.com.br/' + article.find_element(By.CSS_SELECTOR, 'a.productLink').get_attribute('href') )\n",
    "            if item_url:\n",
    "                item_url = item_url\n",
    "            else:\n",
    "                item_url = None \n",
    "                \n",
    "            item_name = article.find_element(By.CSS_SELECTOR, 'h3').text\n",
    "            #item_name = clean_item_name(item_name)\n",
    "            \n",
    "            item_image = article.find_element(By.CSS_SELECTOR, 'a.productLink > img').get_attribute('src')\n",
    "            item_openBox = article.find_elements(By.CLASS_NAME, 'openboxTagCard')\n",
    "            if item_openBox:\n",
    "                item_openBox = True\n",
    "            else:\n",
    "                item_openBox = False\n",
    "                \n",
    "            item_price = article.find_element(By.CLASS_NAME, 'priceCard').text\n",
    "            item_price = convert_price_to_float(item_price)   \n",
    "            \n",
    "            item_especifications = extract_especifications(SUBCATEGORIA, item_name) \n",
    "                \n",
    "            items.append({\n",
    "                'categoria': CATEGORIA,\n",
    "                'subcategoria': SUBCATEGORIA,\n",
    "                'nome': item_name,\n",
    "                'preço': item_price,\n",
    "                'info': item_especifications,\n",
    "                'openBox': item_openBox,\n",
    "                'imagem': item_image,\n",
    "                'site': 'kabum',\n",
    "                'url': item_url,\n",
    "                'data': datetime.now().strftime(\"%d-%m-%Y %H:%M:%S\")\n",
    "            })\n",
    "            \n",
    "        try:\n",
    "            next_button = wait.until(EC.presence_of_element_located((By.CSS_SELECTOR, 'li.next a.nextLink')))\n",
    "            driver.execute_script(\"arguments[0].scrollIntoView(true);\", next_button)\n",
    "            driver.execute_script(\"arguments[0].click();\", next_button)\n",
    "            PAGE += 1\n",
    "        except Exception as e:\n",
    "            print(\"Erro ao clicar no botão próximo:\", e)\n",
    "            break\n",
    "    driver.quit()\n",
    "    return items"
   ]
  },
  {
   "cell_type": "markdown",
   "metadata": {},
   "source": [
    "### Tratamento dos dados"
   ]
  },
  {
   "cell_type": "code",
   "execution_count": 6,
   "metadata": {},
   "outputs": [],
   "source": [
    "links = [\n",
    "    'https://www.kabum.com.br/hardware/disco-rigido-hd?page_number=1&page_size=100&facet_filters=eyJJbnRlcmZhY2UiOlsiU0FUQSJdfQ==&sort=most_searched',\n",
    "    'https://www.kabum.com.br/hardware/placa-de-video-vga?page_number=1&page_size=10000&facet_filters=&sort=most_searched'\n",
    "]"
   ]
  },
  {
   "cell_type": "code",
   "execution_count": 7,
   "metadata": {},
   "outputs": [
    {
     "name": "stdout",
     "output_type": "stream",
     "text": [
      "Processando página 1 de 1 - kabum/hardware/disco-rigido-hd\n",
      "Processando página 1 de 7 - kabum/hardware/placa-de-video-vga\n",
      "Processando página 2 de 7 - kabum/hardware/placa-de-video-vga\n",
      "Processando página 3 de 7 - kabum/hardware/placa-de-video-vga\n",
      "Processando página 4 de 7 - kabum/hardware/placa-de-video-vga\n",
      "Processando página 5 de 7 - kabum/hardware/placa-de-video-vga\n",
      "Processando página 6 de 7 - kabum/hardware/placa-de-video-vga\n",
      "Processando página 7 de 7 - kabum/hardware/placa-de-video-vga\n"
     ]
    }
   ],
   "source": [
    "produtos = []\n",
    "for link in links:\n",
    "    produtos.append(scrape_data_kabum(link))"
   ]
  },
  {
   "cell_type": "markdown",
   "metadata": {},
   "source": [
    "Cria dataframe e CSV"
   ]
  },
  {
   "cell_type": "code",
   "execution_count": 8,
   "metadata": {},
   "outputs": [],
   "source": [
    "dfs = []\n",
    "for produto in produtos:\n",
    "    df = pd.DataFrame(produto)\n",
    "    dfs.append(df)\n",
    "\n",
    "df_kabum = pd.concat(dfs, ignore_index=True)"
   ]
  },
  {
   "cell_type": "code",
   "execution_count": 9,
   "metadata": {},
   "outputs": [],
   "source": [
    "df_kabum['nome'] = df_kabum['nome'].apply(clean_item_name)\n",
    "df_kabum['subcategoria'] = df_kabum['subcategoria'].apply(clean_item_name)"
   ]
  },
  {
   "cell_type": "markdown",
   "metadata": {},
   "source": [
    "## Export to CSV"
   ]
  },
  {
   "cell_type": "code",
   "execution_count": 10,
   "metadata": {},
   "outputs": [],
   "source": [
    "# Verificar se a pasta \"data\" existe, caso contrário, criá-la\n",
    "if not os.path.exists('data'):\n",
    "    os.makedirs('data')\n",
    "    \n",
    "# Caminho do arquivo CSV\n",
    "csv_path = os.path.join('data', 'produtos_kabum.csv')\n",
    "\n",
    "# Verificar se o arquivo já existe\n",
    "file_exists = os.path.isfile(csv_path)\n",
    "\n",
    "# Salvar o dataframe final em um arquivo CSV na pasta \"data\"\n",
    "df_kabum.to_csv(csv_path, mode='a', index=False, header=not file_exists)"
   ]
  }
 ],
 "metadata": {
  "kernelspec": {
   "display_name": ".venv",
   "language": "python",
   "name": "python3"
  },
  "language_info": {
   "codemirror_mode": {
    "name": "ipython",
    "version": 3
   },
   "file_extension": ".py",
   "mimetype": "text/x-python",
   "name": "python",
   "nbconvert_exporter": "python",
   "pygments_lexer": "ipython3",
   "version": "3.12.0"
  }
 },
 "nbformat": 4,
 "nbformat_minor": 2
}
