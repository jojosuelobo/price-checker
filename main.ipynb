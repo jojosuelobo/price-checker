{
 "cells": [
  {
   "cell_type": "code",
   "execution_count": 1,
   "metadata": {},
   "outputs": [],
   "source": [
    "from bs4 import BeautifulSoup as bs\n",
    "import requests\n",
    "\n",
    "r = requests.get(\"https://www.kabum.com.br/hardware/disco-rigido-hd?page_number=1&page_size=100&facet_filters=eyJJbnRlcmZhY2UiOlsiU0FUQSJdfQ==&sort=most_searched\")\n",
    "soup = bs(r.content)"
   ]
  },
  {
   "cell_type": "code",
   "execution_count": 2,
   "metadata": {},
   "outputs": [],
   "source": [
    "# URL de páginas de produtos\n",
    "lista_url = [\n",
    "    # Disco Rígido HD\n",
    "    'https://www.kabum.com.br/hardware/disco-rigido-hd?page_number=1&page_size=100&facet_filters=eyJJbnRlcmZhY2UiOlsiU0FUQSJdfQ==&sort=most_searched'\n",
    "]"
   ]
  },
  {
   "cell_type": "code",
   "execution_count": 3,
   "metadata": {},
   "outputs": [],
   "source": [
    "main = soup.select_one('main.sc-ccc9eb50-13.cWkplc')\n",
    "\n",
    "articles = []\n",
    "articles = [article for article in main.select('article.productCard')]"
   ]
  },
  {
   "cell_type": "code",
   "execution_count": 11,
   "metadata": {},
   "outputs": [],
   "source": [
    "items = []\n",
    "\n",
    "for article in articles:\n",
    "    item_url = ('https://www.kabum.com.br/$' + article.select_one('a.productLink')['href'] )\n",
    "    item_name = article.select_one('h3').text\n",
    "    item_image = article.select_one('a.productLink > img')['src']\n",
    "    item_openBox = article.find(class_ = 'openboxTagCard')\n",
    "    if item_openBox:\n",
    "        item_openBox = True\n",
    "    else:\n",
    "        item_openBox = False\n",
    "    \n",
    "    r = requests.get(item_url)\n",
    "    item_soup = bs(r.content)\n",
    "    item_price = soup.find(class_ = 'finalPrice').text\n",
    "    if item_price != None:\n",
    "        item_price =item_price[3:].split('.')        \n",
    "        # Preços de mil reais pra cima\n",
    "        if len(item_price) > 1:\n",
    "            item_price[1] = item_price[1].split(',')\n",
    "            formatted_item_price = float(f\"{item_price[0]}{item_price[1][0]}.{item_price[1][1]}\")\n",
    "\n",
    "        # Preços abaixo de mil reais\n",
    "        else:\n",
    "            item_price[0] = item_price[0].split(',')\n",
    "            formatted_item_price = float(f\"{item_price[0][0]}.{item_price[0][1]}\")\n",
    "            item_price = formatted_item_price\n",
    "    else:\n",
    "        # O produto não tem preço\n",
    "        item_price = ''\n",
    "    \n",
    "    items.append({\n",
    "        'url': item_url,\n",
    "        'name': item_name,\n",
    "        'price': item_price,\n",
    "        'image': item_image,\n",
    "        'openBox': item_openBox\n",
    "    })"
   ]
  }
 ],
 "metadata": {
  "kernelspec": {
   "display_name": ".venv",
   "language": "python",
   "name": "python3"
  },
  "language_info": {
   "codemirror_mode": {
    "name": "ipython",
    "version": 3
   },
   "file_extension": ".py",
   "mimetype": "text/x-python",
   "name": "python",
   "nbconvert_exporter": "python",
   "pygments_lexer": "ipython3",
   "version": "3.12.0"
  }
 },
 "nbformat": 4,
 "nbformat_minor": 2
}
