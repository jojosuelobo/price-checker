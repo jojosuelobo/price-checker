{
 "cells": [
  {
   "cell_type": "markdown",
   "metadata": {},
   "source": [
    "### Carrega libs"
   ]
  },
  {
   "cell_type": "code",
   "execution_count": null,
   "metadata": {},
   "outputs": [],
   "source": [
    "# scrape data\n",
    "import requests\n",
    "import re\n",
    "\n",
    "# dataframe\n",
    "import pandas as pd\n",
    "import os\n",
    "\n",
    "# database\n",
    "from supabase import create_client, Client"
   ]
  },
  {
   "cell_type": "markdown",
   "metadata": {},
   "source": [
    "Documentação Supabase: https://supabase.com/docs/reference/python/introduction"
   ]
  },
  {
   "cell_type": "markdown",
   "metadata": {},
   "source": [
    "### Kabum"
   ]
  },
  {
   "cell_type": "code",
   "execution_count": null,
   "metadata": {},
   "outputs": [],
   "source": [
    "def get_categoria(path):\n",
    "    menu_path = path.split('/')\n",
    "    categoria = menu_path[0] if len(menu_path) > 0 else \"\"\n",
    "    return categoria\n",
    "\n",
    "def get_subcategoria(path):\n",
    "    menu_path = path.split('/')\n",
    "    subcategoria = menu_path[1] if len(menu_path) > 1 else \"\"\n",
    "    return subcategoria"
   ]
  },
  {
   "cell_type": "code",
   "execution_count": null,
   "metadata": {},
   "outputs": [],
   "source": [
    "def scrape_data_kabum_json(url):\n",
    "    payload = {}\n",
    "    headers = {}\n",
    "\n",
    "    response = requests.request(\"GET\", url, headers=headers, data=payload)\n",
    "\n",
    "    data = response.json()\n",
    "    products = data['data']\n",
    "    \n",
    "    products_list = []\n",
    "    \n",
    "    for product in products:\n",
    "        menu_path = product[\"attributes\"][\"menu\"]\n",
    "        categoria = get_categoria(menu_path)\n",
    "        subcategoria = get_subcategoria(menu_path)\n",
    "        \n",
    "        offer = product[\"attributes\"].get(\"offer\", {})\n",
    "        price_pix = offer.get(\"price_with_discount\") if offer else None\n",
    "        price = offer.get(\"price\") if offer else None\n",
    "        \n",
    "        if price_pix is None:\n",
    "            price_pix = product[\"attributes\"].get(\"price_with_discount\")\n",
    "        if price is None:\n",
    "            price = product[\"attributes\"].get(\"price\")\n",
    "        \n",
    "        name = product[\"attributes\"][\"title\"]\n",
    "        \n",
    "        openbox = product[\"attributes\"][\"is_openbox\"]\n",
    "        openbox = 1 if openbox else 0\n",
    "\n",
    "        images = product[\"attributes\"].get(\"images\", [])\n",
    "        image = images[1] if len(images) > 1 else \"\"      \n",
    "          \n",
    "        description = product[\"attributes\"][\"tag_description\"]\n",
    "        \n",
    "        id_kabum = product[\"id\"]\n",
    "        url = (\"https://www.kabum.com.br/produto/\" + str(id_kabum))\n",
    "        \n",
    "        product_info = {\n",
    "            \"id_kabum\": id_kabum,\n",
    "            \"categoria\": categoria,\n",
    "            \"subcategoria\": subcategoria,\n",
    "            \"nome\": name,\n",
    "            \"preco\": price,\n",
    "            \"preco_pix\": price_pix,\n",
    "            \"descricao\": description,\n",
    "            \"openbox\": openbox,\n",
    "            \"imagem\": image,\n",
    "            \"site\": \"kabum\",\n",
    "            \"url\": url\n",
    "            #\"data\": datetime.now().strftime(\"%d-%m-%Y %H:%M:%S\")\n",
    "        }\n",
    "        products_list.append(product_info)\n",
    "        \n",
    "    return products_list"
   ]
  },
  {
   "cell_type": "markdown",
   "metadata": {},
   "source": [
    "### Tratamento dos dados"
   ]
  },
  {
   "cell_type": "code",
   "execution_count": null,
   "metadata": {},
   "outputs": [],
   "source": [
    "links = [\n",
    "    # Disco Rígido\n",
    "    'https://servicespub.prod.api.aws.grupokabum.com.br/catalog/v2/products-by-category/hardware/disco-rigido-hd?page_number=1&page_size=1000&facet_filters=eyJJbnRlcmZhY2UiOlsiU0FUQSJdfQ%3D%3D&sort=most_searched&include=gift',\n",
    "    \n",
    "    # Memória RAM\n",
    "    'https://servicespub.prod.api.aws.grupokabum.com.br/catalog/v2/products-by-category/hardware/memoria-ram?page_number=1&page_size=1000&facet_filters=eyJDb21wYXRpYmlsaWRhZGUiOlsiRGVza3RvcCJdLCJDYXBhY2lkYWRlIjpbIjE2IEdCICgxeCAxNkdCKSIsIjggR0IgKDF4IDhHQikiXX0%3D&sort=most_searched&include=gift',\n",
    "    \n",
    "    # SSD\n",
    "    'https://servicespub.prod.api.aws.grupokabum.com.br/catalog/v2/products-by-category/hardware/ssd-2-5?page_number=1&page_size=1000&facet_filters=eyJjYXRlZ29yeSI6WyJIYXJkd2FyZSJdLCJDYXBhY2lkYWRlIGRlIEFybWF6ZW5hbWVudG8iOlsiMVRCIiwiMlRCIiwiNFRCIl19&sort=most_searched&include=gift',\n",
    "    \n",
    "    # Cooler Fan\n",
    "    'https://servicespub.prod.api.aws.grupokabum.com.br/catalog/v2/products-by-category/hardware/coolers?page_number=1&page_size=1000&facet_filters=eyJDb21wYXRpYmlsaWRhZGUiOlsiSW50ZWwiLCJBTUQiXX0%3D&sort=most_searched&include=gift',\n",
    "    \n",
    "    # Placa de Vídeo\n",
    "    'https://servicespub.prod.api.aws.grupokabum.com.br/catalog/v2/products-by-category/hardware/placa-de-video-vga?page_number=1&page_size=1000&facet_filters=eyJjYXRlZ29yeSI6WyJIYXJkd2FyZSJdfQ%3D%3D&sort=most_searched&include=gift',\n",
    "    \n",
    "    # Fonte\n",
    "    'https://servicespub.prod.api.aws.grupokabum.com.br/catalog/v2/products-by-category/hardware/fontes?page_number=1&page_size=1000&facet_filters=eyJjYXRlZ29yeSI6WyJIYXJkd2FyZSJdLCJDYWJlYW1lbnRvIjpbIlNlbWkgTW9kdWxhciIsIkZ1bGwgTW9kdWxhciJdfQ%3D%3D&sort=most_searched&include=gift',\n",
    "    \n",
    "    # Processador\n",
    "    'https://servicespub.prod.api.aws.grupokabum.com.br/catalog/v2/products-by-category/hardware/processadores?page_number=1&page_size=1000&facet_filters=eyJrYWJ1bV9wcm9kdWN0IjpbInRydWUiXX0%3D&sort=most_searched&include=gift',\n",
    "    \n",
    "    # Placa mãe\n",
    "    'https://servicespub.prod.api.aws.grupokabum.com.br/catalog/v2/products-by-category/hardware/placas-mae?page_number=1&page_size=1000&facet_filters=eyJrYWJ1bV9wcm9kdWN0IjpbInRydWUiXX0%3D&sort=most_searched&include=gift'\n",
    "\n",
    "    # Smartphone\n",
    "    'https://servicespub.prod.api.aws.grupokabum.com.br/catalog/v2/products-by-category/celular-smartphone/smartphones?page_number=1&page_size=1000&facet_filters=eyJrYWJ1bV9wcm9kdWN0IjpbInRydWUiXX0%3D&sort=most_searched&include=gift',\n",
    "\n",
    "    # Notebooks\n",
    "    'https://servicespub.prod.api.aws.grupokabum.com.br/catalog/v2/products-by-category/computadores/notebooks?page_number=1&page_size=1000&facet_filters=eyJTaXN0ZW1hIE9wZXJhY2lvbmFsIjpbImlPUyIsIkxpbnV4IiwiV2luZG93cyJdfQ%3D%3D&sort=most_searched&include=gift'\n",
    "\n",
    "]"
   ]
  },
  {
   "cell_type": "code",
   "execution_count": null,
   "metadata": {},
   "outputs": [],
   "source": [
    "produtos = []\n",
    "for link in links:\n",
    "    produtos.append(scrape_data_kabum_json(link))"
   ]
  },
  {
   "cell_type": "markdown",
   "metadata": {},
   "source": [
    "### Armazena em database"
   ]
  },
  {
   "cell_type": "code",
   "execution_count": null,
   "metadata": {},
   "outputs": [],
   "source": [
    "supabase_url = os.getenv('SUPABASE_URL')\n",
    "supabase_key = os.getenv('SUPABASE_KEY') \n",
    "\n",
    "supabase: Client = create_client(supabase_url, supabase_key)"
   ]
  },
  {
   "cell_type": "code",
   "execution_count": null,
   "metadata": {},
   "outputs": [],
   "source": [
    "for produto in produtos:\n",
    "    for item in produto: \n",
    "        data, count = supabase.table('produtosKabum').insert(item).execute()"
   ]
  },
  {
   "cell_type": "code",
   "execution_count": null,
   "metadata": {},
   "outputs": [],
   "source": [
    "response = supabase.table('produtosKabum').select(\"*\").execute()\n",
    "\n",
    "df = pd.DataFrame(response.data)"
   ]
  },
  {
   "cell_type": "code",
   "execution_count": null,
   "metadata": {},
   "outputs": [],
   "source": [
    "df.head(5)"
   ]
  }
 ],
 "metadata": {
  "kernelspec": {
   "display_name": ".venv",
   "language": "python",
   "name": "python3"
  },
  "language_info": {
   "codemirror_mode": {
    "name": "ipython",
    "version": 3
   },
   "file_extension": ".py",
   "mimetype": "text/x-python",
   "name": "python",
   "nbconvert_exporter": "python",
   "pygments_lexer": "ipython3",
   "version": "3.11.7"
  }
 },
 "nbformat": 4,
 "nbformat_minor": 2
}
